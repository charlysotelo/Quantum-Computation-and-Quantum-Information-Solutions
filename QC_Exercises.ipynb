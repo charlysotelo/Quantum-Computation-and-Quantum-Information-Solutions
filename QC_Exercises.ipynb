{
 "cells": [
  {
   "cell_type": "code",
   "execution_count": 1,
   "id": "31fbb924-2a53-4439-9b06-000b3c5cbd94",
   "metadata": {
    "tags": []
   },
   "outputs": [],
   "source": [
    "!pip install qiskit matplotlib"
   ]
  },
  {
   "cell_type": "markdown",
   "id": "4dcbbe93-49b2-4f3c-9549-8d40b1a09fe8",
   "metadata": {
    "tags": []
   },
   "source": [
    "Latex commands are defined in this cell\n",
    "$$\\newcommand{\\ket}[1]{\\left|{#1}\\right\\rangle}$$\n",
    "$$\\newcommand{\\bra}[1]{\\left\\langle{#1}\\right|}$$\n",
    "$$\\newcommand{\\braket}[2]{\\left\\langle{#1}\\middle|{#2}\\right\\rangle}$$"
   ]
  },
  {
   "cell_type": "markdown",
   "id": "80964823-552b-4cd9-bae0-915e90af39a2",
   "metadata": {},
   "source": [
    "# My solutions to exercises and problem sets from \"Quantum Computation and Quantum Information\""
   ]
  },
  {
   "cell_type": "markdown",
   "id": "209a2c34-77d9-424a-a7c4-2d5750f1ae18",
   "metadata": {
    "tags": []
   },
   "source": [
    "## Exercises for Chapter 1"
   ]
  },
  {
   "cell_type": "markdown",
   "id": "8b7862ef-1621-4d75-8549-71af5c370622",
   "metadata": {},
   "source": [
    "### Exercise 1.1 (page 36): (Probabilistic classical algorithm)\n",
    "\n",
    "Given $n$ bits, the function $f(x)$ has a domain of size $2^n$. The best classical deterministic algorithm, in the worst case, must check half of all inputs + 1 (that is, $2^n/2 + 1= 2^{n-1}+1$).\n",
    "\n",
    "Consider the probabilistic solution where we do $k$ unique evaluations of the $f(x)$ for unique and randomized $x \\in \\{0,1\\}^n$. If any samples differ from the rest of the samples, we conclude $f(x)$ is balanced, otherwise we conclude it is constant.\n",
    "\n",
    "If $f(x)$ is constant, we will be correct with probability 1. If $f(x)$ is balanced, for the case $k = 2$, there are only 4 possible sampling outcomes: $f(x_1) \\otimes f(x_2) \\in \\{00, 01, 10, 11\\}$. The probability of getting all equal outputs, that is $f(x_1) \\otimes f(x_2) \\in \\{00, 11\\}$ is $\\frac{2^{n-1} - 1}{2^n - 1}$, so we will be incorrect with that probability. For n = 2 its 1/3. In the limit as n approaches infinity, this approaches 1/2\n",
    "\n",
    "In general, given $n, k$, the prob of getting all equal outputs, that is $f(x_1) \\otimes f(x_2) \\otimes ... \\otimes f(x_k) \\in \\{0^k, 1^k\\}$ has probability $\\prod_{i=1}^k \\frac{2^{n-1} - k}{2^n - k}$, so we will be incorrect with that probability. For n = 2 its 1/3. In the limit as n approaches infinity, this approaches 1/2\n",
    "\n",
    "So to answer the question posed by the exercise, the performance of the best classical algorithm for the Deutsch-Jozsa problem is $\\mathcal{O}(1)$, since we can get better than $\\epsilon < 1/2$ with $ k = 2 $ for any n"
   ]
  },
  {
   "cell_type": "code",
   "execution_count": 2,
   "id": "b3258d55-18f2-4721-afbd-79566e19aa05",
   "metadata": {
    "tags": []
   },
   "outputs": [
    {
     "data": {
      "text/plain": [
       "0.49999999999999956"
      ]
     },
     "execution_count": 2,
     "metadata": {},
     "output_type": "execute_result"
    }
   ],
   "source": [
    "def epsilon(n, k):\n",
    "    \"\"\"\n",
    "    Given the number of bits n and number of samples k, calculate the prob of the above\n",
    "    algorithm being incorrect if f(x) is balanced\n",
    "    \"\"\"\n",
    "    result = k\n",
    "    for x in range(k):\n",
    "        result *= (2**(n-1)-x)/(2**n - x)\n",
    "    return result\n",
    "\n",
    "epsilon(50, 2)"
   ]
  },
  {
   "cell_type": "markdown",
   "id": "5a9dc13b-ea5a-44e5-aa1f-750e1d54bcc8",
   "metadata": {
    "tags": []
   },
   "source": [
    "### Exercise 1.2 (page 57): (Cloning and Distinguishability)\n",
    "\n",
    "#### Cloning given Distinguishability\n",
    "\n",
    "Given a circuit that can distinguish between non-orthogonal states: $$\\ket{\\Psi} = e^{i\\gamma}(\\cos\\frac{\\theta}{2}\\ket{0} + e^{i\\phi}\\sin\\frac{\\theta}{2}\\ket{1})$$\n",
    "\n",
    "$$\\ket{\\Phi} = e^{i\\gamma^{\\prime}}(\\cos\\frac{\\theta^{\\prime}}{2}\\ket{0} + e^{i\\phi^{\\prime}}\\sin\\frac{\\theta^{\\prime}}{2}\\ket{1})$$\n",
    "\n",
    "We can build a quantum cloning given below. Note we do this for 1 qubit, but the same procedure can be applied to an n-qubit register"
   ]
  },
  {
   "cell_type": "code",
   "execution_count": 3,
   "id": "30341ce8-f667-4553-b255-1491aae1d28d",
   "metadata": {
    "tags": []
   },
   "outputs": [
    {
     "data": {
      "image/png": "[encoded data removed]",
      "text/plain": [
       "<Figure size 970.404x284.278 with 1 Axes>"
      ]
     },
     "execution_count": 3,
     "metadata": {},
     "output_type": "execute_result"
    }
   ],
   "source": [
    "from qiskit import *\n",
    "from qiskit.circuit import Parameter\n",
    "from math import pi\n",
    "\n",
    "# Psi\n",
    "psi_theta = Parameter('θ')\n",
    "psi_phi = Parameter('φ')\n",
    "psi_lambda = Parameter('λ')\n",
    "\n",
    "# Phi\n",
    "phi_theta = Parameter('θ`')\n",
    "phi_phi = Parameter('φ`')\n",
    "phi_lambda = Parameter('λ`')\n",
    "\n",
    "# Define our distinguisher oracle\n",
    "distinguisher = QuantumCircuit(1, name=\"distinguisher\")\n",
    "distinguisher.to_instruction()\n",
    "\n",
    "x_qubit = QuantumRegister(1, '|x>')\n",
    "scratch0 = QuantumRegister(1)\n",
    "scratch1 = QuantumRegister(1)\n",
    "\n",
    "circuit = QuantumCircuit(x_qubit, scratch0, scratch1)\n",
    "circuit.append(distinguisher,[0])\n",
    "circuit.reset(1)\n",
    "circuit.reset(2)\n",
    "circuit.cu(psi_theta, psi_phi, psi_lambda, 0, 0, 1)\n",
    "circuit.cu(psi_theta, psi_phi, psi_lambda, 0, 0, 2)\n",
    "circuit.x(0)\n",
    "circuit.cu(phi_theta, phi_phi, phi_lambda, 0, 0, 1)\n",
    "circuit.cu(phi_theta, phi_phi, phi_lambda, 0, 0, 2)\n",
    "circuit.draw(output='mpl')"
   ]
  },
  {
   "cell_type": "markdown",
   "id": "0c6a55eb-e9d8-47be-8eaf-90b211604607",
   "metadata": {},
   "source": [
    "Conversely, given a cloning circuit we may distinguish between two states with high probability by repeatedly cloning our state and measuring it in the $\\ket{\\Psi}$ basis a large amount of times. If we measure -1 even once, then we output 0, indicating the original state is $\\ket{\\Phi}$, otherwise we output 1, indicating  $\\ket{\\Psi}$. Note in the below circuit, the inverted U Gate is the adjoint of the above gate. This is just to effectively measure in the $\\ket{0}$ basis"
   ]
  },
  {
   "cell_type": "code",
   "execution_count": 36,
   "id": "11e43008-346c-4d9e-b8a9-ff8a86ce28b6",
   "metadata": {
    "tags": []
   },
   "outputs": [
    {
     "data": {
      "image/png": "[encoded data removed]",
      "text/plain": [
       "<Figure size 872.572x284.278 with 1 Axes>"
      ]
     },
     "execution_count": 36,
     "metadata": {},
     "output_type": "execute_result"
    }
   ],
   "source": [
    "from qiskit.circuit.library import UGate\n",
    "\n",
    "qc = QuantumCircuit(2, 1)\n",
    "\n",
    "cloner = QuantumCircuit(2, name=\"cloner\")\n",
    "cloner.to_instruction()\n",
    "\n",
    "N=100 # The larger the N, the higher the certainty in the result\n",
    "with qc.for_loop(range(N)) as i:\n",
    "    qc.append(cloner, [0,1])\n",
    "    qc.append(UGate(psi_theta, psi_phi, psi_lambda).inverse(), [1]) # Bring from phi-basis to 0-basis\n",
    "    qc.measure(1, 0)\n",
    "    qc.break_loop().c_if(0, 0)\n",
    "qc.draw(output='mpl')"
   ]
  },
  {
   "cell_type": "markdown",
   "id": "80fae7f7-e9d9-430f-9ea1-3a241d725f9c",
   "metadata": {},
   "source": [
    "## Exercises for Chapter 2"
   ]
  },
  {
   "cell_type": "markdown",
   "id": "96253646-ba8b-457f-b93b-8543ca70cee8",
   "metadata": {
    "tags": []
   },
   "source": [
    "### Exercise 2.1 (page 63): (Linear dependence)\n",
    "\n",
    "Show that the vectors below are linearly dependent\n",
    "\n",
    "$$v_1 = \\begin{bmatrix} 1 \\\\ -1 \\end{bmatrix}, v_2 = \\begin{bmatrix} 1 \\\\ 2 \\end{bmatrix}, v_3 = \\begin{bmatrix} 2 \\\\ 1 \\end{bmatrix}$$\n",
    "\n",
    "Recall that N vectors $v_1, v_2, ... v_N$ are lineraly-dependent if there exists $a_1, a_2, ..., a_N$ such that $\\sum_{i=1}^N{a_iv_i} = 0$, where at least one $a_i \\ne 0$\n",
    "\n",
    "Clearly this is the case for $a_1 = 1, a_2 = 1, a_3 = -1$\n"
   ]
  },
  {
   "cell_type": "markdown",
   "id": "b4e27b12-451e-4e1c-b223-b806bc804dd2",
   "metadata": {},
   "source": [
    "### Exercise 2.2 (page 64): (Matrix representation)\n",
    "Given a linear operator $A$ which maps $\\ket{0}$ to $\\ket{1}$ and vice-versa, the matrix representation of $A$ in the basis $\\ket{0}$ and $\\ket{1}$ for both the input and output vector spaces is\n",
    "$$A = \\begin{bmatrix} 0 && 1\\\\ 1 && 0\\end{bmatrix}$$\n",
    "\n",
    "To find $A$ for different input and output basis, say $\\ket{+}$ and $\\ket{-}$, we can simply find the matrix $S$ which transforms from the ($\\ket{0}$, $\\ket{1}$) basis to the ($\\ket{+}$, $\\ket{-}$).\n",
    "\n",
    "Trivially, this is $$ S = \\frac{1}{\\sqrt{2}}\\begin{bmatrix} 1 && 1\\\\ 1 && -1\\end{bmatrix}$$\n",
    "\n",
    "We may then construct the matrix $A^\\prime = S^{\\dagger}AS$"
   ]
  },
  {
   "cell_type": "markdown",
   "id": "3c180565-8796-4e09-836e-ec17bca7a1c5",
   "metadata": {},
   "source": [
    "### Exercise 2.3 (page 64): (Matrix representation for operator products)\n",
    "Show the matrix representation for linear transformation $BA$ is the matrix product of the matrix representation for $B$ and $A$, with respect to the approriate bases.\n",
    "\n",
    "$$A: V \\rightarrow W$$\n",
    "$$B: W \\rightarrow X$$\n",
    "\n",
    "$V$, $W$, and $X$ have basis vectors $\\ket{v_i}$, $\\ket{w_j}$, and $\\ket{x_k}$ respectively, such that\n",
    "\n",
    "$$A\\ket{v_i} = \\sum_j{A_{ji}\\ket{w_j}}$$\n",
    "$$B\\ket{w_j} = \\sum_k{B_{kj}\\ket{x_k}}$$\n",
    "\n",
    "therefore $$ BA\\ket{v_i} = B(A\\ket{v_i}) = B(\\sum_j{A_{ji}\\ket{w_j}}) = \\sum_j{A_{ji}B\\ket{w_j}} = \\sum_j{A_{ji}\\sum_k{B_{kj}\\ket{x_k}}} = \\sum_k{\\ket{x_k}\\sum_j{B_{kj}A_{ji}}} = \\sum_k{BA_{ki}\\ket{x_k}}$$\n",
    "\n",
    "where\n",
    "\n",
    "$$ BA_{ki} = \\sum_j{B_{kj}A_{ji}}$$\n",
    "\n",
    "which is the matrix product of $B$ and $A$ by definition"
   ]
  },
  {
   "cell_type": "markdown",
   "id": "a2dd0867-b915-4fe1-99e9-c4692db463e7",
   "metadata": {},
   "source": [
    "### Exercise 2.4 (page 65): (Matrix representation for identity)\n",
    "Show the identity operator $I: V \\rightarrow V$ has a matrix representation of $\\delta_{ij}$ when acting on the same input and output basis\n",
    "\n",
    "The matrix representation of $I$ is one that satisfies:\n",
    "\n",
    "$$I\\ket{v_j} = \\sum_i{I_{ij}\\ket{v_i}} = I_{jj}\\ket{v_j} + \\sum_{i \\ne j}{I_{ij}\\ket{v_i}}$$\n",
    "\n",
    "Because the vectors $\\ket{v_i}$ are linearly-independent and so any combination of non-$\\ket{v_j}$ vectors may not contribute to along the $\\ket{v_j}$ direction, $I_{jj} = 1$. The remaining terms must be zero, which we prove by contradiction:\n",
    "\n",
    "If $I_{ij} \\ne 0$ for $i \\ne j$, then \n",
    "\n",
    "$$\\sum_{i \\ne j}{I_{ij}\\ket{v_i}} = 0$$\n",
    "\n",
    "or equivalently, for $I_k \\ne 0$, \n",
    "\n",
    "$$\\sum_{k}{I_{k}\\ket{v_k}} = 0$$\n",
    "\n",
    "which implies $\\ket{v_k}$ are linearly dependent. Therefore, $I_{ij} = \\delta_{ij}$\n"
   ]
  },
  {
   "cell_type": "markdown",
   "id": "c25cee09-27f8-4003-a129-76bae11a15f8",
   "metadata": {},
   "source": [
    "### Exercise 2.5 (page 66): (Verify (.,.) is an inner product on $\\bf{C^n}$)\n",
    "\n",
    "The three requirements of an inner product $(a, b)$ are:\n",
    "1. $(a, \\alpha b + \\beta c) = \\alpha(a, b) + \\beta (a, c)$ (that is, linear in its second argument)\n",
    "2. $(a, b) = (b, a)^*$\n",
    "3. $(a, a) \\ge 0 $ with equality iff $a = 0$\n",
    "\n",
    "\n",
    "Verify these are met for the inner product on $\\bf{C^n}$ defined as:\n",
    "$$ ((y_1,...,y_n),(z_1,...,z_n)) = \\sum_i{y_i^*z_i} = \\begin{bmatrix} y_1^* \\ ... \\ y_n^* \\end{bmatrix} \\begin{bmatrix} z_1 \\\\ \\vdots \\\\ z_n \\end{bmatrix} $$\n",
    "\n",
    "1. $(a, \\alpha b + \\beta c) =  \\sum_i{a_i^*(\\alpha b_i + \\beta c_i)} = \\sum_i{a_i^*\\alpha b_i + a_i^*\\beta c_i} = \\alpha \\sum_i{a_i^*b_i} + \\beta \\sum_i{a_i^*c_i} = \\alpha(a, b) + \\beta (a, c)$\n",
    "\n",
    "2. $(a, b) = \\sum_i{a_i^*b_i} = (\\sum_i{b_i^*a_i})^* = (b, a)^*$\n",
    "\n",
    "3. $(a, a) = \\sum_i{a_i^*a_i} = \\sum_i{|a_i|^2}$ (finite sum of positive numbers is always positive)\n"
   ]
  },
  {
   "cell_type": "markdown",
   "id": "80fc8b93-5d35-4584-8d4f-eb1575c4ca53",
   "metadata": {},
   "source": [
    "### Exercise 2.6 (page 66): (Verify any (.,.) is conjugate-linear in first argument)\n",
    "\n",
    "Prove $$ (\\alpha a + \\beta b, c) = \\alpha^* (a, c) + \\beta^* (b, c) $$\n",
    "\n",
    "By point 2: $(\\alpha a + \\beta b, c) = (c, \\alpha a + \\beta b)^*$\n",
    "\n",
    "By point 1: $(c, \\alpha a + \\beta b)^* =  (\\alpha (c, a) + \\beta (c, b))^* = \\alpha^* (c, a)^* + \\beta^* (c, b)^*$\n",
    "\n",
    "By point 2: $\\alpha^* (c, a)^* + \\beta^* (c, b)^* = \\alpha^* (a, c) + \\beta^* (b, c)$"
   ]
  },
  {
   "cell_type": "markdown",
   "id": "a33f034a-41f9-4082-868b-b53b52a3a958",
   "metadata": {},
   "source": [
    "### Exercise 2.7 (page 66): (Verify orthogonality of $\\ket{w} = (1,1)$ and $\\ket{v} = (1, -1)$)\n",
    "\n",
    "Also show the normalized versions.\n",
    "\n",
    "$(\\ket{w}, \\ket{v}) = \\begin{bmatrix} 1^* \\ 1^* \\end{bmatrix} \\begin{bmatrix} 1 \\\\ -1 \\end{bmatrix} = 0$\n",
    "\n",
    "\n",
    "$$ \\frac{\\ket{w}}{||\\ket{w}||} = \\frac{\\ket{w}}{\\sqrt{\\braket{w}{w}}} = \\frac{1}{\\sqrt{2}} \\begin{bmatrix} 1 \\\\ 1 \\end{bmatrix} $$\n",
    "\n",
    "$$ \\frac{\\ket{v}}{||\\ket{v}||} = \\frac{\\ket{v}}{\\sqrt{\\braket{v}{v}}} = \\frac{1}{\\sqrt{2}} \\begin{bmatrix} 1 \\\\ -1 \\end{bmatrix} $$\n"
   ]
  },
  {
   "cell_type": "markdown",
   "id": "4642dfe4-1c36-4c68-b1c7-01ac695555e8",
   "metadata": {},
   "source": [
    "### Exercise 2.8 (page 66): (Prove Gram-Schmidt produces an orthonomral basis for V)\n",
    "\n"
   ]
  },
  {
   "cell_type": "code",
   "execution_count": null,
   "id": "aceb111b-f456-44ec-a9c1-9b440980b741",
   "metadata": {},
   "outputs": [],
   "source": []
  }
 ],
 "metadata": {
  "kernelspec": {
   "display_name": "Python 3 (ipykernel)",
   "language": "python",
   "name": "python3"
  },
  "language_info": {
   "codemirror_mode": {
    "name": "ipython",
    "version": 3
   },
   "file_extension": ".py",
   "mimetype": "text/x-python",
   "name": "python",
   "nbconvert_exporter": "python",
   "pygments_lexer": "ipython3",
   "version": "3.11.4"
  }
 },
 "nbformat": 4,
 "nbformat_minor": 5
}
