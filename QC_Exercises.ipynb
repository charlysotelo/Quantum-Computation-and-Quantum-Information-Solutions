{
 "cells": [
  {
   "cell_type": "markdown",
   "id": "80964823-552b-4cd9-bae0-915e90af39a2",
   "metadata": {},
   "source": [
    "# My solutions to exercises from \"Quantum Computation and Quantum Information\""
   ]
  },
  {
   "cell_type": "markdown",
   "id": "209a2c34-77d9-424a-a7c4-2d5750f1ae18",
   "metadata": {
    "tags": []
   },
   "source": [
    "## 1"
   ]
  },
  {
   "cell_type": "markdown",
   "id": "8b7862ef-1621-4d75-8549-71af5c370622",
   "metadata": {},
   "source": [
    "### Exercise 1.1 (page 36): (Probabilistic classical algorithm)\n",
    "\n",
    "Given $n$ bits, the function $f(x)$ has a domain of size $2^n$. The best classical deterministic algorithm, in the worst case, must check half of all inputs + 1 (that is, $2^n/2 + 1= 2^{n-1}+1$).\n",
    "\n",
    "Consider the probabilistic solution where we do $k$ unique evaluations of the $f(x)$ for unique and randomized $x \\in \\{0,1\\}^n$. If any samples differ from the rest of the samples, we conclude $f(x)$ is balanced, otherwise we conclude it is constant.\n",
    "\n",
    "If $f(x)$ is constant, we will be correct with probability 1. If $f(x)$ is balanced, for the case $k = 2$, there are only 4 possible sampling outcomes: $f(x_1) \\otimes f(x_2) \\in \\{00, 01, 10, 11\\}$. The probability of getting all equal outputs, that is $f(x_1) \\otimes f(x_2) \\in \\{00, 11\\}$ is $\\frac{2^{n-1} - 1}{2^n - 1}$, so we will be incorrect with that probability. For n = 2 its 1/3. In the limit as n approaches infinity, this approaches 1/2\n",
    "\n",
    "In general, given $n, k$, the prob of getting all equal outputs, that is $f(x_1) \\otimes f(x_2) \\otimes ... \\otimes f(x_k) \\in \\{0^k, 1^k\\}$ has probability $\\prod_{i=1}^k \\frac{2^{n-1} - k}{2^n - k}$, so we will be incorrect with that probability. For n = 2 its 1/3. In the limit as n approaches infinity, this approaches 1/2\n",
    "\n",
    "So to answer the question posed by the exercise, the performance of the best classical algorithm for the Deutsch-Jozsa problem is $\\mathcal{O}(1)$, since we can get better than $\\epsilon < 1/2$ with $ k = 2 $ for any n"
   ]
  },
  {
   "cell_type": "code",
   "execution_count": 13,
   "id": "ffafceb4-298e-4cda-a544-b6a8353909c2",
   "metadata": {
    "tags": []
   },
   "outputs": [
    {
     "data": {
      "text/plain": [
       "0.49999999999999956"
      ]
     },
     "execution_count": 13,
     "metadata": {},
     "output_type": "execute_result"
    }
   ],
   "source": [
    "def epsilon(n, k):\n",
    "    \"\"\"\n",
    "    Given the number of bits n and number of samples k, calculate the prob of the above\n",
    "    algorithm being incorrect if f(x) is balanced\n",
    "    \"\"\"\n",
    "    result = k\n",
    "    for x in range(k):\n",
    "        result *= (2**(n-1)-x)/(2**n - x)\n",
    "    return result\n",
    "\n",
    "epsilon(50, 2)\n",
    "    "
   ]
  },
  {
   "cell_type": "code",
   "execution_count": null,
   "id": "50740969-462f-44b6-96cc-f334f2116b6c",
   "metadata": {},
   "outputs": [],
   "source": []
  }
 ],
 "metadata": {
  "kernelspec": {
   "display_name": "Python 3 (ipykernel)",
   "language": "python",
   "name": "python3"
  },
  "language_info": {
   "codemirror_mode": {
    "name": "ipython",
    "version": 3
   },
   "file_extension": ".py",
   "mimetype": "text/x-python",
   "name": "python",
   "nbconvert_exporter": "python",
   "pygments_lexer": "ipython3",
   "version": "3.11.4"
  }
 },
 "nbformat": 4,
 "nbformat_minor": 5
}
